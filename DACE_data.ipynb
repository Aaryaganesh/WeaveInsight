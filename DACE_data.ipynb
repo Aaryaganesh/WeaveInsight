{
  "cells": [
    {
      "cell_type": "code",
      "execution_count": 6,
      "metadata": {
        "colab": {
          "base_uri": "https://localhost:8080/"
        },
        "id": "D-U-8Flt8reG",
        "outputId": "322588ea-8e67-4b7c-8c7b-9fb7814e2f92"
      },
      "outputs": [
        {
          "name": "stdout",
          "output_type": "stream",
          "text": [
            "        Date  Shirting Production (Meters)  Suiting Production (Meters)  \\\n",
            "0 2018-01-31                   1917.618108                  1263.805037   \n",
            "1 2018-02-28                   1565.981131                   701.108792   \n",
            "2 2018-03-31                   1650.670806                   906.415417   \n",
            "3 2018-04-30                   1444.196343                   381.532362   \n",
            "4 2018-05-31                   1620.956912                   221.750828   \n",
            "\n",
            "   Own Production (Meters)  Sales (Meters)  Customer Feedback Rating  \\\n",
            "0              2294.782581     1459.299287                         4   \n",
            "1              2420.139869     1960.975002                         5   \n",
            "2              1900.658798     1849.699927                         2   \n",
            "3              2346.829238     1524.540343                         4   \n",
            "4              2277.548402     1586.800623                         4   \n",
            "\n",
            "    Revenue (Rs)      Cost (Rs)    Profit (Rs)  Inventory (Shirting Meters)  \\\n",
            "0  207417.065611  216943.876432   -9526.810821                   458.318821   \n",
            "1  428505.620705  199989.157555  228516.463151                    63.324950   \n",
            "2  478333.589477  143263.888480  335069.700997                  -135.704171   \n",
            "3  165075.960315   61398.884754  103677.075562                  -216.048171   \n",
            "4  212359.375122  113529.798277   98829.576845                  -181.891882   \n",
            "\n",
            "   Inventory (Suiting Meters)  Inventory (Own Production Meters)  \n",
            "0                 -195.494249                         835.483294  \n",
            "1                -1455.360459                        1294.648161  \n",
            "2                -2398.644970                        1345.607033  \n",
            "3                -3541.652950                        2167.895928  \n",
            "4                -4906.702745                        2858.643707  \n"
          ]
        }
      ],
      "source": [
        "import pandas as pd\n",
        "import numpy as np\n",
        "\n",
        "# Define function to generate synthetic data\n",
        "def generate_synthetic_data(start_year, end_year, initial_data):\n",
        "    # Create a date range for the given years\n",
        "    date_range = pd.date_range(start=f'1/1/{start_year}', end=f'12/31/{end_year}', freq='M')\n",
        "    num_months = len(date_range)\n",
        "\n",
        "    # Generate synthetic data for production, sales, and financials\n",
        "    data = {\n",
        "        'Date': date_range,\n",
        "        'Shirting Production (Meters)': np.random.uniform(1000, 2000, num_months),\n",
        "        'Suiting Production (Meters)': np.random.uniform(0, 1500, num_months),\n",
        "        'Own Production (Meters)': np.random.uniform(1500, 3000, num_months),\n",
        "        'Sales (Meters)': np.random.uniform(1000, 2000, num_months),\n",
        "        'Customer Feedback Rating': np.random.randint(1, 6, num_months),\n",
        "        'Revenue (Rs)': np.random.uniform(100000, 500000, num_months),\n",
        "        'Cost (Rs)': np.random.uniform(50000, 250000, num_months)\n",
        "    }\n",
        "\n",
        "    # Create DataFrame with the synthetic data\n",
        "    df = pd.DataFrame(data)\n",
        "\n",
        "    # Calculate additional metrics\n",
        "    df['Profit (Rs)'] = df['Revenue (Rs)'] - df['Cost (Rs)']\n",
        "    df['Inventory (Shirting Meters)'] = df['Shirting Production (Meters)'].cumsum() - df['Sales (Meters)'].cumsum()\n",
        "    df['Inventory (Suiting Meters)'] = df['Suiting Production (Meters)'].cumsum() - df['Sales (Meters)'].cumsum()\n",
        "    df['Inventory (Own Production Meters)'] = df['Own Production (Meters)'].cumsum() - df['Sales (Meters)'].cumsum()\n",
        "\n",
        "    # Integrate initial data provided for the years 2020-21, 2021-22, 2022-23\n",
        "    for index, row in initial_data.iterrows():\n",
        "        date = row['Date']\n",
        "        if date in df['Date'].values:\n",
        "            df.loc[df['Date'] == date, 'Shirting Production (Meters)'] = row['Shirting Production (Meters)']\n",
        "            df.loc[df['Date'] == date, 'Suiting Production (Meters)'] = row['Suiting Production (Meters)']\n",
        "            df.loc[df['Date'] == date, 'Own Production (Meters)'] = row['Own Production (Meters)']\n",
        "            df.loc[df['Date'] == date, 'Sales (Meters)'] = row['Sales (Meters)']\n",
        "            df.loc[df['Date'] == date, 'Revenue (Rs)'] = row['Revenue (Rs)']\n",
        "            df.loc[df['Date'] == date, 'Cost (Rs)'] = row['Cost (Rs)']\n",
        "            df.loc[df['Date'] == date, 'Profit (Rs)'] = row['Profit (Rs)']\n",
        "            df.loc[df['Date'] == date, 'Inventory (Shirting Meters)'] = row['Inventory (Shirting Meters)']\n",
        "            df.loc[df['Date'] == date, 'Inventory (Suiting Meters)'] = row['Inventory (Suiting Meters)']\n",
        "            df.loc[df['Date'] == date, 'Inventory (Own Production Meters)'] = row['Inventory (Own Production Meters)']\n",
        "\n",
        "    return df\n",
        "\n",
        "# Initial data provided\n",
        "initial_data = {\n",
        "    'Date': pd.to_datetime(['2020-03-31', '2021-03-31', '2022-03-31']),\n",
        "    'Shirting Production (Meters)': [13917.45, 15884.60, 14647.75],\n",
        "    'Suiting Production (Meters)': [0, 8769.65, 17954.25],\n",
        "    'Own Production (Meters)': [19534.00, 26725.00, 40518.00],\n",
        "    'Sales (Meters)': [17111.00, 23052.00, 37199.00],\n",
        "    'Customer Feedback Rating': [4, 4, 5],\n",
        "    'Revenue (Rs)': [4277842.50, 5762932.68, 9299836.00],\n",
        "    'Cost (Rs)': [2138921.25, 2881466.34, 4649918.00],\n",
        "    'Profit (Rs)': [2138921.25, 2881466.34, 4649918.00],\n",
        "    'Inventory (Shirting Meters)': [0, 13917.45, 29802.05],\n",
        "    'Inventory (Suiting Meters)': [0, 0, 8769.65],\n",
        "    'Inventory (Own Production Meters)': [19534.00, 46259.00, 86777.00]\n",
        "}\n",
        "\n",
        "# Convert initial data to DataFrame\n",
        "initial_data_df = pd.DataFrame(initial_data)\n",
        "\n",
        "# Ensure data types are consistent\n",
        "initial_data_df['Shirting Production (Meters)'] = initial_data_df['Shirting Production (Meters)'].astype(float)\n",
        "initial_data_df['Suiting Production (Meters)'] = initial_data_df['Suiting Production (Meters)'].astype(float)\n",
        "initial_data_df['Own Production (Meters)'] = initial_data_df['Own Production (Meters)'].astype(float)\n",
        "initial_data_df['Sales (Meters)'] = initial_data_df['Sales (Meters)'].astype(float)\n",
        "initial_data_df['Revenue (Rs)'] = initial_data_df['Revenue (Rs)'].astype(float)\n",
        "initial_data_df['Cost (Rs)'] = initial_data_df['Cost (Rs)'].astype(float)\n",
        "initial_data_df['Profit (Rs)'] = initial_data_df['Profit (Rs)'].astype(float)\n",
        "initial_data_df['Inventory (Shirting Meters)'] = initial_data_df['Inventory (Shirting Meters)'].astype(float)\n",
        "initial_data_df['Inventory (Suiting Meters)'] = initial_data_df['Inventory (Suiting Meters)'].astype(float)\n",
        "initial_data_df['Inventory (Own Production Meters)'] = initial_data_df['Inventory (Own Production Meters)'].astype(float)\n",
        "\n",
        "# Generate data from 2018 to 2023\n",
        "df_synthetic = generate_synthetic_data(2018, 2023, initial_data_df)\n",
        "\n",
        "# Display first few rows\n",
        "print(df_synthetic.head())\n",
        "\n",
        "# Save to CSV\n",
        "df_synthetic.to_csv('synthetic_handloom_data.csv', index=False)\n"
      ]
    },
    {
      "cell_type": "markdown",
      "metadata": {},
      "source": [
        "Test data"
      ]
    },
    {
      "cell_type": "code",
      "execution_count": 2,
      "metadata": {
        "id": "cU6cqW-u_rra"
      },
      "outputs": [
        {
          "name": "stderr",
          "output_type": "stream",
          "text": [
            "C:\\Users\\aarya\\AppData\\Local\\Temp\\ipykernel_4836\\2510230373.py:6: FutureWarning: 'M' is deprecated and will be removed in a future version, please use 'ME' instead.\n",
            "  dates = pd.date_range(start='2024-01-31', end='2024-07-31', freq='M').strftime('%d-%m-%Y').tolist()\n"
          ]
        }
      ],
      "source": [
        "import pandas as pd\n",
        "import numpy as np\n",
        "from datetime import datetime\n",
        "\n",
        "# Generate month-end dates for 2024 up to July\n",
        "dates = pd.date_range(start='2024-01-31', end='2024-07-31', freq='M').strftime('%d-%m-%Y').tolist()\n",
        "\n",
        "# Create dummy data for these dates\n",
        "np.random.seed(0)  # For reproducibility\n",
        "\n",
        "data = {\n",
        "    \"Date\": dates,\n",
        "    \"Shirting Production (Meters)\": np.random.uniform(1000, 2000, size=len(dates)).round(2),\n",
        "    \"Suiting Production (Meters)\": np.random.uniform(800, 1500, size=len(dates)).round(2),\n",
        "    \"Sales (Shirting)\": np.random.uniform(5000, 10000, size=len(dates)).round(2),\n",
        "    \"Sales (Suiting)\": np.random.uniform(4000, 8000, size=len(dates)).round(2),\n",
        "    \"Revenue (Shirting)\": np.random.uniform(10000, 20000, size=len(dates)).round(2),\n",
        "    \"Revenue (Suiting)\": np.random.uniform(8000, 16000, size=len(dates)).round(2),\n",
        "    \"Cost (Shirting)\": np.random.uniform(2000, 5000, size=len(dates)).round(2),\n",
        "    \"Cost (Suiting)\": np.random.uniform(1500, 4000, size=len(dates)).round(2),\n",
        "    \"Profit (Shirting)\": np.random.uniform(1000, 4000, size=len(dates)).round(2),\n",
        "    \"Profit (Suiting)\": np.random.uniform(800, 3000, size=len(dates)).round(2),\n",
        "    \"Inventory (Shirting Meters)\": np.random.uniform(100, 500, size=len(dates)).round(2),\n",
        "    \"Inventory (Suiting Meters)\": np.random.uniform(100, 500, size=len(dates)).round(2)\n",
        "}\n",
        "\n",
        "# Create DataFrame\n",
        "df = pd.DataFrame(data)\n",
        "\n",
        "# Save DataFrame to CSV\n",
        "df.to_csv('test_data_2024.csv', index=False)\n"
      ]
    },
    {
      "cell_type": "code",
      "execution_count": null,
      "metadata": {},
      "outputs": [],
      "source": []
    }
  ],
  "metadata": {
    "colab": {
      "provenance": []
    },
    "kernelspec": {
      "display_name": "Python 3",
      "name": "python3"
    },
    "language_info": {
      "codemirror_mode": {
        "name": "ipython",
        "version": 3
      },
      "file_extension": ".py",
      "mimetype": "text/x-python",
      "name": "python",
      "nbconvert_exporter": "python",
      "pygments_lexer": "ipython3",
      "version": "3.12.2"
    }
  },
  "nbformat": 4,
  "nbformat_minor": 0
}
